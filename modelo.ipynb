{
 "cells": [
  {
   "cell_type": "code",
   "execution_count": 8,
   "id": "f59b4704",
   "metadata": {},
   "outputs": [],
   "source": [
    "import pandas as pd\n",
    "import tensorflow as tf\n",
    "import numpy as np"
   ]
  },
  {
   "cell_type": "code",
   "execution_count": 9,
   "id": "65b31389",
   "metadata": {},
   "outputs": [
    {
     "name": "stdout",
     "output_type": "stream",
     "text": [
      "Training data shape: (60000, 28, 28)\n",
      "Training labels shape: (60000,)\n"
     ]
    }
   ],
   "source": [
    "# Downloading the MNIST dataset through the tensorflow library (just to get it simpler)\n",
    "(x_train, y_train), (x_test, y_test) = tf.keras.datasets.mnist.load_data()\n",
    "\n",
    "print(f\"Training data shape: {x_train.shape}\")\n",
    "print(f\"Training labels shape: {y_train.shape}\")"
   ]
  },
  {
   "cell_type": "code",
   "execution_count": 10,
   "id": "80dfdaf7",
   "metadata": {},
   "outputs": [],
   "source": [
    "x_train = x_train / 255.0\n",
    "x_test = x_test / 255.0\n"
   ]
  },
  {
   "cell_type": "code",
   "execution_count": 11,
   "id": "151bc89c",
   "metadata": {},
   "outputs": [
    {
     "data": {
      "text/plain": [
       "(10000, 28, 28)"
      ]
     },
     "execution_count": 11,
     "metadata": {},
     "output_type": "execute_result"
    }
   ],
   "source": [
    "x_test.shape"
   ]
  },
  {
   "cell_type": "code",
   "execution_count": 12,
   "id": "16d9b7d9",
   "metadata": {},
   "outputs": [
    {
     "data": {
      "text/plain": [
       "np.float64(1.0)"
      ]
     },
     "execution_count": 12,
     "metadata": {},
     "output_type": "execute_result"
    }
   ],
   "source": [
    "np.max(x_train) # just check if the maxmium value is 1 (needs to be 1)"
   ]
  },
  {
   "cell_type": "code",
   "execution_count": 13,
   "id": "fa7234c1",
   "metadata": {},
   "outputs": [
    {
     "name": "stdout",
     "output_type": "stream",
     "text": [
      "(784, 60000)\n"
     ]
    }
   ],
   "source": [
    "x_train = x_train.reshape(x_train.shape[0], -1)  # The -1 automatically calculates 28*28 = 784\n",
    "\n",
    "x_train = x_train.T\n",
    "\n",
    "print(x_train.shape)"
   ]
  },
  {
   "cell_type": "code",
   "execution_count": 14,
   "id": "973b118f",
   "metadata": {},
   "outputs": [
    {
     "data": {
      "text/plain": [
       "(784, 10000)"
      ]
     },
     "execution_count": 14,
     "metadata": {},
     "output_type": "execute_result"
    }
   ],
   "source": [
    "x_test = x_test.reshape(x_test.shape[0], -1)\n",
    "x_test = x_test.T\n",
    "x_test.shape"
   ]
  },
  {
   "cell_type": "code",
   "execution_count": 15,
   "id": "2d17d75d",
   "metadata": {},
   "outputs": [],
   "source": [
    "def one_hot_encode(Y):\n",
    "    num_classes = Y.max() + 1\n",
    "    num_examples = Y.size\n",
    "\n",
    "    one_hot_Y = np.zeros((num_classes, num_examples)) # create an big array with all the inputs that we need (makes senses in my mind)\n",
    "    one_hot_Y[Y, np.arange(num_examples)] = 1 # position and in the number of our example\n",
    "\n",
    "    return one_hot_Y"
   ]
  },
  {
   "cell_type": "code",
   "execution_count": 16,
   "id": "bc0f9b66",
   "metadata": {},
   "outputs": [],
   "source": [
    "y_train = one_hot_encode(y_train)\n",
    "\n",
    "y_test = one_hot_encode(y_test)"
   ]
  },
  {
   "cell_type": "code",
   "execution_count": 17,
   "id": "14ef77d8",
   "metadata": {},
   "outputs": [],
   "source": [
    "# Initializing paramters\n",
    "\n",
    "def init_params():\n",
    "    # Initialize weights with small random values to break symmetry\n",
    "    W1 = np.random.rand(15, 784) - 0.5\n",
    "    b1 = np.random.rand(15, 1) - 0.5\n",
    "    W2 = np.random.rand(15, 15) - 0.5\n",
    "    b2 = np.random.rand(15, 1) - 0.5\n",
    "    W3 = np.random.rand(10, 15) - 0.5\n",
    "    b3 = np.random.rand(10, 1) - 0.5\n",
    "    return W1, b1, W2, b2, W3, b3"
   ]
  },
  {
   "cell_type": "code",
   "execution_count": 18,
   "id": "bd36d26a",
   "metadata": {},
   "outputs": [],
   "source": [
    "# ReLU\n",
    "\n",
    "def ReLU(Z):\n",
    "    return np.maximum(Z,0)\n",
    "\n",
    "def softmax(Z):\n",
    "    A = np.exp(Z - np.max(Z)) / np.sum(np.exp(Z - np.max(Z)), axis=0)\n",
    "    return A\n",
    "\n",
    "def ReLU_deriv(Z):\n",
    "    return Z > 0\n",
    "    "
   ]
  },
  {
   "cell_type": "code",
   "execution_count": 19,
   "id": "c8f34d1f",
   "metadata": {},
   "outputs": [],
   "source": [
    "def foward_prop(W1,b1,W2,b2,W3,b3, X):\n",
    "    Z1 = W1.dot(X) + b1\n",
    "    A1 = ReLU(Z1)\n",
    "\n",
    "    Z2 = W2.dot(A1) + b2\n",
    "    A2 = ReLU(Z2)\n",
    "\n",
    "    Z3 = W3.dot(A2) + b3\n",
    "    A3 = softmax(Z3)\n",
    "\n",
    "    return Z1,A1,Z2,A2,Z3,A3"
   ]
  },
  {
   "cell_type": "code",
   "execution_count": 20,
   "id": "4096b44f",
   "metadata": {},
   "outputs": [],
   "source": [
    "def backward_prop(Z1, A1, Z2, A2, A3, W2, W3, X, Y):\n",
    "    m = Y.shape[1]\n",
    "\n",
    "    # Gradients for the output layer\n",
    "    dZ3 = A3 - Y\n",
    "    dW3 = (1 / m) * dZ3.dot(A2.T)\n",
    "    db3 = (1 / m) * np.sum(dZ3, axis=1, keepdims=True)\n",
    "\n",
    "    # Gradients for the second hidden layer\n",
    "    dZ2 = W3.T.dot(dZ3) * ReLU_deriv(Z2)\n",
    "    dW2 = (1 / m) * dZ2.dot(A1.T)\n",
    "    db2 = (1 / m) * np.sum(dZ2, axis=1, keepdims=True)\n",
    "\n",
    "    # Gradients for the first hidden layer\n",
    "    dZ1 = W2.T.dot(dZ2) * ReLU_deriv(Z1)\n",
    "    dW1 = (1 / m) * dZ1.dot(X.T)\n",
    "    db1 = (1 / m) * np.sum(dZ1, axis=1, keepdims=True)\n",
    "\n",
    "    return dW1, db1, dW2, db2, dW3, db3"
   ]
  },
  {
   "cell_type": "code",
   "execution_count": 21,
   "id": "3b9d7dfa",
   "metadata": {},
   "outputs": [],
   "source": [
    "def update_params(W1, b1, W2, b2, W3, b3, dW1, db1, dW2, db2, dW3, db3, alpha):\n",
    "    W1 = W1 - alpha * dW1\n",
    "    b1 = b1 - alpha * db1\n",
    "    W2 = W2 - alpha * dW2\n",
    "    b2 = b2 - alpha * db2\n",
    "    W3 = W3 - alpha * dW3\n",
    "    b3 = b3 - alpha * db3\n",
    "    return W1, b1, W2, b2, W3, b3"
   ]
  },
  {
   "cell_type": "code",
   "execution_count": 30,
   "id": "9b8d0477",
   "metadata": {},
   "outputs": [],
   "source": [
    "def descend_gradient(X, Y, alpha, iterations) : \n",
    "    W1, b1, W2, b2, W3, b3  = init_params()\n",
    "    for i in range(iterations):\n",
    "        Z1, A1, Z2, A2, Z3, A3 = foward_prop(W1, b1, W2, b2, W3, b3, X)\n",
    "        dW1, db1, dW2, db2, dW3, db3 = backward_prop(Z1, A1, Z2, A2, A3, W2, W3, X, Y)\n",
    "        W1, b1, W2, b2, W3, b3 = update_params(W1, b1, W2, b2, W3, b3, dW1, db1, dW2, db2, dW3, db3, alpha)\n",
    "\n",
    "        if i % 10 == 0:\n",
    "            predictions = np.argmax(A3, axis=0)\n",
    "            true_labels = np.argmax(Y, axis=0)\n",
    "            accuracy = np.sum(predictions == true_labels) / Y.shape[1]\n",
    "            print(f\"Iteration: {i}, Accuracy: {accuracy:.4f}\")\n",
    "\n",
    "    return W1, b1, W2, b2, W3, b3"
   ]
  },
  {
   "cell_type": "code",
   "execution_count": 35,
   "id": "6ac73e5b",
   "metadata": {},
   "outputs": [
    {
     "name": "stdout",
     "output_type": "stream",
     "text": [
      "Iteration: 0, Accuracy: 0.1138\n",
      "Iteration: 10, Accuracy: 0.3586\n",
      "Iteration: 20, Accuracy: 0.4653\n",
      "Iteration: 30, Accuracy: 0.5613\n",
      "Iteration: 40, Accuracy: 0.6325\n",
      "Iteration: 50, Accuracy: 0.6805\n",
      "Iteration: 60, Accuracy: 0.7068\n",
      "Iteration: 70, Accuracy: 0.6991\n",
      "Iteration: 80, Accuracy: 0.7367\n",
      "Iteration: 90, Accuracy: 0.7340\n",
      "Iteration: 100, Accuracy: 0.7674\n",
      "Iteration: 110, Accuracy: 0.7760\n",
      "Iteration: 120, Accuracy: 0.7820\n",
      "Iteration: 130, Accuracy: 0.7874\n",
      "Iteration: 140, Accuracy: 0.8054\n",
      "Iteration: 150, Accuracy: 0.8060\n",
      "Iteration: 160, Accuracy: 0.8159\n",
      "Iteration: 170, Accuracy: 0.8207\n",
      "Iteration: 180, Accuracy: 0.8255\n",
      "Iteration: 190, Accuracy: 0.8309\n",
      "Iteration: 200, Accuracy: 0.8340\n",
      "Iteration: 210, Accuracy: 0.8386\n",
      "Iteration: 220, Accuracy: 0.8429\n",
      "Iteration: 230, Accuracy: 0.8463\n",
      "Iteration: 240, Accuracy: 0.8470\n",
      "Iteration: 250, Accuracy: 0.8495\n",
      "Iteration: 260, Accuracy: 0.8539\n",
      "Iteration: 270, Accuracy: 0.8574\n",
      "Iteration: 280, Accuracy: 0.8590\n",
      "Iteration: 290, Accuracy: 0.8616\n",
      "Iteration: 300, Accuracy: 0.8638\n",
      "Iteration: 310, Accuracy: 0.8568\n",
      "Iteration: 320, Accuracy: 0.8649\n",
      "Iteration: 330, Accuracy: 0.8736\n",
      "Iteration: 340, Accuracy: 0.8752\n",
      "Iteration: 350, Accuracy: 0.8708\n",
      "Iteration: 360, Accuracy: 0.8651\n",
      "Iteration: 370, Accuracy: 0.8798\n",
      "Iteration: 380, Accuracy: 0.8825\n",
      "Iteration: 390, Accuracy: 0.8827\n",
      "Iteration: 400, Accuracy: 0.8714\n",
      "Iteration: 410, Accuracy: 0.8792\n",
      "Iteration: 420, Accuracy: 0.8863\n",
      "Iteration: 430, Accuracy: 0.8871\n",
      "Iteration: 440, Accuracy: 0.8882\n",
      "Iteration: 450, Accuracy: 0.8881\n",
      "Iteration: 460, Accuracy: 0.8592\n",
      "Iteration: 470, Accuracy: 0.8892\n",
      "Iteration: 480, Accuracy: 0.8912\n",
      "Iteration: 490, Accuracy: 0.8921\n",
      "Iteration: 500, Accuracy: 0.8931\n",
      "Iteration: 510, Accuracy: 0.8943\n",
      "Iteration: 520, Accuracy: 0.8949\n",
      "Iteration: 530, Accuracy: 0.8942\n",
      "Iteration: 540, Accuracy: 0.8350\n",
      "Iteration: 550, Accuracy: 0.8957\n",
      "Iteration: 560, Accuracy: 0.8971\n",
      "Iteration: 570, Accuracy: 0.8979\n",
      "Iteration: 580, Accuracy: 0.8985\n",
      "Iteration: 590, Accuracy: 0.8992\n",
      "Iteration: 600, Accuracy: 0.9000\n",
      "Iteration: 610, Accuracy: 0.9003\n",
      "Iteration: 620, Accuracy: 0.9010\n",
      "Iteration: 630, Accuracy: 0.9005\n",
      "Iteration: 640, Accuracy: 0.8441\n",
      "Iteration: 650, Accuracy: 0.9012\n",
      "Iteration: 660, Accuracy: 0.9026\n",
      "Iteration: 670, Accuracy: 0.9032\n",
      "Iteration: 680, Accuracy: 0.9042\n",
      "Iteration: 690, Accuracy: 0.9046\n",
      "Iteration: 700, Accuracy: 0.9050\n",
      "Iteration: 710, Accuracy: 0.9053\n",
      "Iteration: 720, Accuracy: 0.9059\n",
      "Iteration: 730, Accuracy: 0.9062\n",
      "Iteration: 740, Accuracy: 0.9068\n",
      "Iteration: 750, Accuracy: 0.9070\n",
      "Iteration: 760, Accuracy: 0.9026\n",
      "Iteration: 770, Accuracy: 0.9042\n",
      "Iteration: 780, Accuracy: 0.9065\n",
      "Iteration: 790, Accuracy: 0.9074\n",
      "Iteration: 800, Accuracy: 0.9080\n",
      "Iteration: 810, Accuracy: 0.9086\n",
      "Iteration: 820, Accuracy: 0.9092\n",
      "Iteration: 830, Accuracy: 0.9097\n",
      "Iteration: 840, Accuracy: 0.9101\n",
      "Iteration: 850, Accuracy: 0.9107\n",
      "Iteration: 860, Accuracy: 0.9110\n",
      "Iteration: 870, Accuracy: 0.9112\n",
      "Iteration: 880, Accuracy: 0.9116\n",
      "Iteration: 890, Accuracy: 0.9120\n",
      "Iteration: 900, Accuracy: 0.9119\n",
      "Iteration: 910, Accuracy: 0.8592\n",
      "Iteration: 920, Accuracy: 0.9103\n",
      "Iteration: 930, Accuracy: 0.9118\n",
      "Iteration: 940, Accuracy: 0.9127\n",
      "Iteration: 950, Accuracy: 0.9133\n",
      "Iteration: 960, Accuracy: 0.9135\n",
      "Iteration: 970, Accuracy: 0.9140\n",
      "Iteration: 980, Accuracy: 0.9141\n",
      "Iteration: 990, Accuracy: 0.9145\n"
     ]
    }
   ],
   "source": [
    "W1, b1, W2, b2, W3, b3 = descend_gradient(x_train, y_train, 0.2, 1000)"
   ]
  },
  {
   "cell_type": "code",
   "execution_count": 36,
   "id": "eabc03ef",
   "metadata": {},
   "outputs": [],
   "source": [
    "_, _, _, _, _, A3 = foward_prop(W1, b1, W2, b2, W3, b3, x_test)"
   ]
  },
  {
   "cell_type": "code",
   "execution_count": 37,
   "id": "183099a6",
   "metadata": {},
   "outputs": [
    {
     "name": "stdout",
     "output_type": "stream",
     "text": [
      "First 10 predictions: [7 2 1 0 4 1 4 9 6 9]\n",
      "First 10 true values: [7 2 1 0 4 1 4 9 5 9]\n"
     ]
    }
   ],
   "source": [
    "predictions = np.argmax(A3, axis = 0)\n",
    "\n",
    "y_test_values = np.argmax(y_test, axis = 0)\n",
    "\n",
    "print(\"First 10 predictions:\" , predictions[0:10])\n",
    "print(\"First 10 true values:\" , y_test_values[0:10])\n"
   ]
  },
  {
   "cell_type": "code",
   "execution_count": null,
   "id": "393d60e3",
   "metadata": {},
   "outputs": [
    {
     "name": "stdout",
     "output_type": "stream",
     "text": [
      "Test Set Accuracy: 0.9161\n"
     ]
    }
   ],
   "source": [
    "correct_predictions = predictions == y_test_values # compare with true labels\n",
    "\n",
    "accuracy = np.sum(correct_predictions) / y_test_values.size # compute accuracy\n",
    "\n",
    "print(f\"Test Set Accuracy: {accuracy:.4f}\")                "
   ]
  },
  {
   "cell_type": "code",
   "execution_count": 39,
   "id": "3d471198",
   "metadata": {},
   "outputs": [],
   "source": [
    "misclassified_indices = np.where(predictions != y_test_values)[0]\n",
    "\n",
    "misclassified_index = misclassified_indices[0]\n",
    "\n",
    "# Get the predicted and true labels for this specific example\n",
    "predicted_label = predictions[misclassified_index]\n",
    "true_label = y_test_values[misclassified_index]"
   ]
  },
  {
   "cell_type": "code",
   "execution_count": 44,
   "id": "686aa56d",
   "metadata": {},
   "outputs": [],
   "source": [
    "misclassified_image_flat = x_test[:, misclassified_index + 1]\n",
    "\n",
    "# Reshape the flat array back to a 28x28 grid\n",
    "misclassified_image_2d = misclassified_image_flat.reshape(28, 28)"
   ]
  },
  {
   "cell_type": "code",
   "execution_count": 45,
   "id": "35c1cc6a",
   "metadata": {},
   "outputs": [
    {
     "data": {
      "image/png": "[encoded data removed]",
      "text/plain": [
       "<Figure size 640x480 with 1 Axes>"
      ]
     },
     "metadata": {},
     "output_type": "display_data"
    }
   ],
   "source": [
    "import matplotlib.pyplot as plt\n",
    "\n",
    "# Display the image\n",
    "plt.imshow(misclassified_image_2d, cmap='gray')\n",
    "\n",
    "# Add a title to the plot to show the prediction and the true label\n",
    "plt.title(f\"Prediction: {predicted_label} | True Label: {true_label}\")\n",
    "plt.show()"
   ]
  },
  {
   "cell_type": "code",
   "execution_count": null,
   "id": "7eeb8ecd",
   "metadata": {},
   "outputs": [],
   "source": []
  }
 ],
 "metadata": {
  "kernelspec": {
   "display_name": "venv",
   "language": "python",
   "name": "python3"
  },
  "language_info": {
   "codemirror_mode": {
    "name": "ipython",
    "version": 3
   },
   "file_extension": ".py",
   "mimetype": "text/x-python",
   "name": "python",
   "nbconvert_exporter": "python",
   "pygments_lexer": "ipython3",
   "version": "3.13.1"
  }
 },
 "nbformat": 4,
 "nbformat_minor": 5
}
